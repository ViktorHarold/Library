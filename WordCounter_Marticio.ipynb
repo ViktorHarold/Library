{
  "nbformat": 4,
  "nbformat_minor": 0,
  "metadata": {
    "colab": {
      "provenance": [],
      "authorship_tag": "ABX9TyM3f81fe371UxzNGrbmP4aP",
      "include_colab_link": true
    },
    "kernelspec": {
      "name": "python3",
      "display_name": "Python 3"
    },
    "language_info": {
      "name": "python"
    }
  },
  "cells": [
    {
      "cell_type": "markdown",
      "metadata": {
        "id": "view-in-github",
        "colab_type": "text"
      },
      "source": [
        "<a href=\"https://colab.research.google.com/github/ViktorHarold/Library/blob/master/WordCounter_Marticio.ipynb\" target=\"_parent\"><img src=\"https://colab.research.google.com/assets/colab-badge.svg\" alt=\"Open In Colab\"/></a>"
      ]
    },
    {
      "cell_type": "code",
      "execution_count": 16,
      "metadata": {
        "colab": {
          "base_uri": "https://localhost:8080/"
        },
        "id": "2pMKnNYIkAEe",
        "outputId": "a9c507f2-1d7f-4427-b492-ad5b1df1901a"
      },
      "outputs": [
        {
          "output_type": "stream",
          "name": "stdout",
          "text": [
            "======================================\n",
            "Created by: Marticio, Viktor Harold R.\n",
            "======================================\n",
            "\n",
            "Word Frequencies:\n",
            "------------------------------------------\n",
            "{'i': 1}\n"
          ]
        }
      ],
      "source": [
        "print(\"======================================\")\n",
        "print(\"Created by: Marticio, Viktor Harold R.\")\n",
        "print(\"======================================\\n\")\n",
        "print(\"Word Frequencies:\")\n",
        "print(\"------------------------------------------\")\n",
        "\n",
        "def WordCounter(text):\n",
        "  poem = text.split()\n",
        "  wordfrequency = {}\n",
        "  for word in poem:\n",
        "    word = word.lower()\n",
        "    if word in wordfrequency:\n",
        "      wordfrequency[word] += 1\n",
        "    else:\n",
        "      wordfrequency[word] = 1\n",
        "    return wordfrequency\n",
        "\n",
        "with open('/gdrive/My Drive/WordCounter_txtfile.txt', 'r') as f:\n",
        "    text = f.read()\n",
        "wordfrequency = WordCounter(text)\n",
        "print(wordfrequency)\n",
        "\n",
        "\n"
      ]
    },
    {
      "cell_type": "code",
      "source": [
        "print(\"======================================\")\n",
        "print(\"Created by: Marticio, Viktor Harold R.\")\n",
        "print(\"======================================\")\n",
        "print(\"Word Frequencies:\")\n",
        "print(\"--------------------\")\n",
        "def WordCounter(text):\n",
        "  poem = text.split()\n",
        "  wordfrequency = {}\n",
        "  for word in poem:\n",
        "    word = word.lower()\n",
        "    if word in wordfrequency:\n",
        "      wordfrequency[word] += 1\n",
        "    else:\n",
        "      wordfrequency[word] = 1\n",
        "  return wordfrequency\n",
        "\n",
        "# usage\n",
        "with open('/gdrive/My Drive/WordCounter_txtfile.txt', 'r') as f:\n",
        "    text = f.read()\n",
        "wordfrequency = WordCounter(text)\n",
        "for word, freq in wordfrequency.items():\n",
        "  print(f\"{word}: {freq}\")"
      ],
      "metadata": {
        "colab": {
          "base_uri": "https://localhost:8080/"
        },
        "id": "Qu1MvBLFkgqO",
        "outputId": "e053801d-cdcf-473d-8d42-ed5fba1c563b"
      },
      "execution_count": 27,
      "outputs": [
        {
          "output_type": "stream",
          "name": "stdout",
          "text": [
            "======================================\n",
            "Created by: Marticio, Viktor Harold R.\n",
            "======================================\n",
            "Word Frequencies:\n",
            "--------------------\n",
            "i: 2\n",
            "think: 1\n",
            "that: 3\n",
            "shall: 1\n",
            "never: 1\n",
            "see: 1\n",
            "a: 7\n",
            "poem: 1\n",
            "lovely: 1\n",
            "as: 1\n",
            "tree.: 2\n",
            "tree: 3\n",
            "whose: 2\n",
            "hungry: 1\n",
            "mouth: 1\n",
            "is: 1\n",
            "prest: 1\n",
            "against: 1\n",
            "the: 1\n",
            "earth's: 1\n",
            "sweet: 1\n",
            "flowing: 1\n",
            "breast;: 1\n",
            "looks: 1\n",
            "at: 1\n",
            "god: 2\n",
            "all: 1\n",
            "day,: 1\n",
            "and: 1\n",
            "lifts: 1\n",
            "her: 2\n",
            "leafy: 1\n",
            "arms: 1\n",
            "to: 1\n",
            "pray;: 1\n",
            "may: 1\n",
            "in: 2\n",
            "summer: 1\n",
            "wear: 1\n",
            "nest: 1\n",
            "of: 1\n",
            "robins: 1\n",
            "hair;: 1\n",
            "upon: 1\n",
            "bosom: 1\n",
            "snow: 1\n",
            "has: 1\n",
            "lain;: 1\n",
            "who: 1\n",
            "intimately: 1\n",
            "lives: 1\n",
            "with: 1\n",
            "rain.: 1\n",
            "poems: 1\n",
            "are: 1\n",
            "made: 1\n",
            "by: 1\n",
            "fools: 1\n",
            "like: 1\n",
            "me,: 1\n",
            "but: 1\n",
            "only: 1\n",
            "can: 1\n",
            "make: 1\n"
          ]
        }
      ]
    }
  ]
}